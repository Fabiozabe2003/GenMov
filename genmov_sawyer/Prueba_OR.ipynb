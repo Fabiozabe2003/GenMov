{
 "cells": [
  {
   "cell_type": "markdown",
   "metadata": {},
   "source": [
    "# Lectura bvhio y adaptamiento"
   ]
  },
  {
   "cell_type": "markdown",
   "metadata": {},
   "source": [
    "## Librerias"
   ]
  },
  {
   "cell_type": "code",
   "execution_count": 1,
   "metadata": {
    "executionInfo": {
     "elapsed": 9,
     "status": "ok",
     "timestamp": 1715916246607,
     "user": {
      "displayName": "Lynn Guadalupe Marin Flores",
      "userId": "18345643331908002377"
     },
     "user_tz": 300
    },
    "id": "d8VzI_y43M2X"
   },
   "outputs": [],
   "source": [
    "import bvhio\n",
    "import matplotlib.pyplot as plt\n",
    "import numpy as np"
   ]
  },
  {
   "cell_type": "code",
   "execution_count": 2,
   "metadata": {
    "colab": {
     "base_uri": "https://localhost:8080/",
     "height": 494
    },
    "executionInfo": {
     "elapsed": 14,
     "status": "error",
     "timestamp": 1715916193381,
     "user": {
      "displayName": "Lynn Guadalupe Marin Flores",
      "userId": "18345643331908002377"
     },
     "user_tz": 300
    },
    "id": "78JbVz9t3M2Y",
    "outputId": "51cfdaae-aeed-42b7-e29d-a3becb486363"
   },
   "outputs": [],
   "source": [
    "%matplotlib qt"
   ]
  },
  {
   "cell_type": "markdown",
   "metadata": {},
   "source": [
    "## Lectura\n",
    "### Archivo"
   ]
  },
  {
   "cell_type": "code",
   "execution_count": 13,
   "metadata": {
    "colab": {
     "base_uri": "https://localhost:8080/"
    },
    "executionInfo": {
     "elapsed": 385,
     "status": "ok",
     "timestamp": 1715916266039,
     "user": {
      "displayName": "Lynn Guadalupe Marin Flores",
      "userId": "18345643331908002377"
     },
     "user_tz": 300
    },
    "id": "03EibixV3M2Z",
    "outputId": "12672db6-65f5-44f9-e238-330c4a69faa1"
   },
   "outputs": [
    {
     "name": "stdout",
     "output_type": "stream",
     "text": [
      "Number of frames: 112\n"
     ]
    }
   ],
   "source": [
    "bachata='/home/andres/momask-codes/generation/bachata/animations/0/sample0_repeat0_len196_ik.bvh'\n",
    "#'/home/andres/momask-codes/generation/circulo/animations/0/sample0_repeat0_len196.bvh'\n",
    "circle_left='/home/andres/momask-codes/generation/circle_left/animations/0/sample0_repeat0_len196.bvh'\n",
    "\n",
    "\n",
    "# Circulo correcto\n",
    "circle_left2='/home/andres/momask-codes/generation/circle_left2/animations/0/sample0_repeat0_len196.bvh'\n",
    "# Levantar brazo\n",
    "levantar_brazo='/home/andres/momask-codes/generation/levantar_brazo/animations/0/sample0_repeat0_len112.bvh'\n",
    "\n",
    "root = bvhio.readAsHierarchy(levantar_brazo)\n",
    "\n",
    "nframes = len(root.Keyframes)\n",
    "print(\"Number of frames:\", nframes)"
   ]
  },
  {
   "cell_type": "markdown",
   "metadata": {},
   "source": [
    "## Ordenamiento de datos"
   ]
  },
  {
   "cell_type": "code",
   "execution_count": 14,
   "metadata": {
    "executionInfo": {
     "elapsed": 394,
     "status": "ok",
     "timestamp": 1715916314816,
     "user": {
      "displayName": "Lynn Guadalupe Marin Flores",
      "userId": "18345643331908002377"
     },
     "user_tz": 300
    },
    "id": "Cw8NCo6B3M2b"
   },
   "outputs": [],
   "source": [
    "lshoulder_ = root.filter('LeftShoulder')[0]\n",
    "larm_ = root.filter('LeftArm')[0]\n",
    "lforearm_ = root.filter('LeftForeArm')[0]\n",
    "lhand_ = root.filter('LeftHand')[0]\n",
    "\n",
    "rshoulder_ = root.filter('RightShoulder')[0]\n",
    "rarm_ = root.filter('RightArm')[0]\n",
    "rforearm_ = root.filter('RightForeArm')[0]\n",
    "rhand_ = root.filter('RightHand')[0]\n",
    "\n",
    "larm = []\n",
    "lshoulder = []\n",
    "lforearm = []\n",
    "lhand = []\n",
    "\n",
    "rarm = []\n",
    "rshoulder = []\n",
    "rforearm = []\n",
    "rhand = []\n",
    "\n",
    "# Leer valores\n",
    "for i in range(nframes):\n",
    "    lshoulder_.loadPose(i)\n",
    "    larm_.loadPose(i)\n",
    "    lforearm_.loadPose(i)\n",
    "    lhand_.loadPose(i)\n",
    "\n",
    "    rshoulder_.loadPose(i)\n",
    "    rarm_.loadPose(i)\n",
    "    rforearm_.loadPose(i)\n",
    "    rhand_.loadPose(i)\n",
    "\n",
    "    lshoulder.append([lshoulder_.PositionWorld.x, lshoulder_.PositionWorld.y, lshoulder_.PositionWorld.z])\n",
    "    larm.append([larm_.PositionWorld.x, larm_.PositionWorld.y, larm_.PositionWorld.z])\n",
    "    lforearm.append([lforearm_.PositionWorld.x, lforearm_.PositionWorld.y, lforearm_.PositionWorld.z])\n",
    "    lhand.append([lhand_.PositionWorld.x, lhand_.PositionWorld.y, lhand_.PositionWorld.z])\n",
    "\n",
    "    rshoulder.append([rshoulder_.PositionWorld.x, rshoulder_.PositionWorld.y, rshoulder_.PositionWorld.z])\n",
    "    rarm.append([rarm_.PositionWorld.x, rarm_.PositionWorld.y, rarm_.PositionWorld.z])\n",
    "    rforearm.append([rforearm_.PositionWorld.x, rforearm_.PositionWorld.y, rforearm_.PositionWorld.z])\n",
    "    rhand.append([rhand_.PositionWorld.x, rhand_.PositionWorld.y, rhand_.PositionWorld.z])\n",
    "\n",
    "lshoulder = np.array(lshoulder)\n",
    "larm = np.array(larm)\n",
    "lforearm = np.array(lforearm)\n",
    "lhand = np.array(lhand)\n",
    "\n",
    "rshoulder = np.array(rshoulder)\n",
    "rarm = np.array(rarm)\n",
    "rforearm = np.array(rforearm)\n",
    "rhand = np.array(rhand)"
   ]
  },
  {
   "cell_type": "markdown",
   "metadata": {},
   "source": [
    "## Ploteo de brazo"
   ]
  },
  {
   "cell_type": "code",
   "execution_count": 17,
   "metadata": {
    "colab": {
     "base_uri": "https://localhost:8080/",
     "height": 434
    },
    "executionInfo": {
     "elapsed": 1290,
     "status": "ok",
     "timestamp": 1715916401628,
     "user": {
      "displayName": "Lynn Guadalupe Marin Flores",
      "userId": "18345643331908002377"
     },
     "user_tz": 300
    },
    "id": "gynEWvDD3M2c",
    "outputId": "f854fc0e-3f6f-4b62-fede-341fd786e26e"
   },
   "outputs": [],
   "source": [
    "# Select a specific frame to plot\n",
    "# frame_number = 10\n",
    "\n",
    "# Create the figure and the 3D axis\n",
    "fig = plt.figure()\n",
    "ax = fig.add_subplot(111, projection='3d')\n",
    "modeloRobot='ur5' #'Sawyer' o 'ur5'\n",
    "if modeloRobot=='Sawyer': #Para Sawyer\n",
    "        #k1 = 20.88474/9.64; k2=40.0/26.14; k3= 53.47084/24.94 \n",
    "        k1 = 20.88474/10.2; k2=40.0/25.49; k3= 53.47084/25.49 \n",
    "        shoulder=lshoulder\n",
    "        arm=larm\n",
    "        forearm=lforearm\n",
    "        hand=lhand\n",
    "                \n",
    "elif modeloRobot=='ur5': #Para UR5\n",
    "        k1 = 42.5/10.2; k2 = 39.2/25.49; k3 = 9.465/25.49 \n",
    "        shoulder=rshoulder\n",
    "        arm=rarm\n",
    "        forearm=rforearm\n",
    "        hand=rhand\n",
    "\n",
    "for frame_number in range(nframes):\n",
    "\n",
    "        # Clear the previous frame's data\n",
    "        ax.cla()\n",
    "\n",
    "        # Plot the data for the selected frame\n",
    "        ax.plot(shoulder[frame_number, 0], shoulder[frame_number, 1], shoulder[frame_number, 2], label='shoulder', color='r', marker='o')\n",
    "        ax.plot(arm[frame_number, 0], arm[frame_number, 1], arm[frame_number, 2], label='arm', color='g', marker='o')\n",
    "        ax.plot(forearm[frame_number, 0], forearm[frame_number, 1], forearm[frame_number, 2], label='forearm', color='b', marker='o')\n",
    "        ax.plot(hand[frame_number, 0], hand[frame_number, 1], hand[frame_number, 2], label='hand', color='y', marker='o')\n",
    "\n",
    "        # Line between lshoulder and larm\n",
    "        ax.plot([shoulder[frame_number, 0], arm[frame_number, 0]],\n",
    "                [shoulder[frame_number, 1], arm[frame_number, 1]],\n",
    "                [shoulder[frame_number, 2], arm[frame_number, 2]], color='k')\n",
    "\n",
    "        # Line between larm and lforearm\n",
    "        ax.plot([arm[frame_number, 0], forearm[frame_number, 0]],\n",
    "                [arm[frame_number, 1], forearm[frame_number, 1]],\n",
    "                [arm[frame_number, 2], forearm[frame_number, 2]], color='k')\n",
    "\n",
    "        # Line between lforearm and lhand\n",
    "        ax.plot([forearm[frame_number, 0], hand[frame_number, 0]],\n",
    "                [forearm[frame_number, 1], hand[frame_number, 1]],\n",
    "                [forearm[frame_number, 2], hand[frame_number, 2]], color='k')\n",
    "\n",
    "        # Set axis labels and limits\n",
    "        ax.set_xlim([-0.5, 0.5])\n",
    "        ax.set_ylim([-0.5, 0.5])\n",
    "        ax.set_zlim([-0.5, 0.5])\n",
    "        #ax.set_xlim([0, 0.5])\n",
    "        #ax.set_ylim([-0.5, 0.5])\n",
    "        #ax.set_zlim([-0.5, 0.5])\n",
    "        ax.set_xlabel('X axis')\n",
    "        ax.set_ylabel('Y axis')\n",
    "        ax.set_zlabel('Z axis')\n",
    "        ax.set_title('3D Motion Visualization')\n",
    "\n",
    "        # Ploteo de esfera en el origen\n",
    "        # Define the sphere\n",
    "        phi = np.linspace(0, np.pi, 50)\n",
    "        theta = np.linspace(0, 2 * np.pi, 50)\n",
    "        phi, theta = np.meshgrid(phi, theta)\n",
    "\n",
    "        # Convert spherical coordinates to Cartesian coordinates\n",
    "        xs = np.sin(phi) * np.cos(theta) *0.05\n",
    "        ys = np.sin(phi) * np.sin(theta)*0.05\n",
    "        zs = np.cos(phi) *0.05\n",
    "        ax.plot_surface(xs, ys, zs, color='b', alpha=0.6, edgecolor='b')\n",
    "\n",
    "        # Show the plot\n",
    "        plt.pause(0.1)\n",
    "plt.show()\n",
    "\n",
    "# Save txt\n",
    "filename_hand = f'hand_points.txt'\n",
    "filename_forearm = f'forearm_points.txt'\n",
    "np.savetxt(filename_hand, hand, fmt='%f')\n",
    "np.savetxt(filename_forearm, forearm, fmt='%f')\n",
    "\n",
    "\n",
    "\n"
   ]
  },
  {
   "cell_type": "markdown",
   "metadata": {},
   "source": [
    "## Ploteo de brazo escalado\n",
    "### Brazo izquierdo para Sawyer\n",
    "### Brazo derecho para UR5"
   ]
  },
  {
   "cell_type": "code",
   "execution_count": 21,
   "metadata": {},
   "outputs": [],
   "source": [
    "# Select a specific frame to plot\n",
    "# frame_number = 10\n",
    "# Create the figure and the 3D axis\n",
    "fig = plt.figure()\n",
    "ax = fig.add_subplot(111, projection='3d')\n",
    "\n",
    "\n",
    "# Para las articulaciones del Robot:\n",
    "shoulderRobot = np.zeros((nframes,3))\n",
    "armRobot = np.zeros((nframes,3))\n",
    "forearmRobot = np.zeros((nframes,3))\n",
    "handRobot = np.zeros((nframes,3))\n",
    "\n",
    "for frame_number in range(nframes):               \n",
    "        # Puntos en humano\n",
    "        Sh = shoulder[frame_number]\n",
    "        Ah = arm[frame_number]\n",
    "        Fh = forearm[frame_number]\n",
    "        Hh = hand[frame_number]\n",
    "\n",
    "        # Escalamiento para puntos del robot\n",
    "        Sr = Sh - Sh  \n",
    "        Ar = (Ah-Sh)*k1 + Sr\n",
    "        Fr = (Fh - Ah)*k2 + Ar\n",
    "        Hr = (Hh - Fh)*k3 + Fr\n",
    "\n",
    "        # Puntos en robot\n",
    "        shoulderRobot[frame_number,:] = Sr\n",
    "        armRobot[frame_number,:] = Ar \n",
    "        forearmRobot[frame_number,:] = Fr\n",
    "        handRobot[frame_number,:] = Hr\n",
    "\n",
    "        # Clear the previous frame's data\n",
    "        ax.cla()\n",
    "\n",
    "        # Ploteo brazo escalado para Robot\n",
    "        ax.plot(Sr[0],Sr[1],Sr[2], label='shoulder', color='r', marker='o')\n",
    "        ax.plot(Ar[0],Ar[1],Ar[2], label='arm', color='g', marker='o')\n",
    "        ax.plot(Fr[0],Fr[1],Fr[2], label='forearm', color='b', marker='o')\n",
    "        ax.plot(Hr[0],Hr[1],Hr[2], label='hand', color='y', marker='o')\n",
    "\n",
    "        # Line between lshoulder and larm\n",
    "        ax.plot([Sr[0], Ar[0]],\n",
    "                [Sr[1], Ar[1]],\n",
    "                [Sr[2], Ar[2]], color='k')\n",
    "\n",
    "        # Line between larm and lforearm\n",
    "        ax.plot([Ar[0], Fr[0]],\n",
    "                [Ar[1], Fr[1]],\n",
    "                [Ar[2], Fr[2]], color='k')\n",
    "\n",
    "        # Line between lforearm and lhand\n",
    "        ax.plot([Fr[0], Hr[0]],\n",
    "                [Fr[1], Hr[1]],\n",
    "                [Fr[2], Hr[2]], color='k')\n",
    "\n",
    "        # Set axis labels and limits\n",
    "        ax.set_xlim([-0.75, 0.75]); ax.set_ylim([-0.75, 0.75]); ax.set_zlim([-0.75, 0.75])\n",
    "        ax.set_xlabel('X axis'); ax.set_ylabel('Y axis'); ax.set_zlabel('Z axis')\n",
    "        ax.set_title('3D Motion Visualization')\n",
    "\n",
    "         # Show the plot\n",
    "        plt.pause(0.05)\n",
    "\n",
    "plt.show()\n",
    "\n",
    "# Reorder columns\n",
    "if (modeloRobot=='Sawyer'):\n",
    "        pass\n",
    "elif modeloRobot=='ur5':\n",
    "        orden = [1, 0, 2] #configuracion 2 (ejes)\n",
    "        handRobot = handRobot[:, orden]\n",
    "        forearmRobot = forearmRobot[:, orden]\n",
    "        #Negativo en y\n",
    "        handRobot[:,0] *= -1\n",
    "        forearmRobot[:,0] *= -1\n",
    "\n",
    "# Save txt\n",
    "filename_hand = f'{modeloRobot}_hand_points.txt'\n",
    "filename_forearm = f'{modeloRobot}_forearm_points.txt'\n",
    "np.savetxt(filename_hand, handRobot, fmt='%f')\n",
    "np.savetxt(filename_forearm, forearmRobot, fmt='%f')"
   ]
  }
 ],
 "metadata": {
  "colab": {
   "provenance": []
  },
  "kernelspec": {
   "display_name": "Python 3 (ipykernel)",
   "language": "python",
   "name": "python3"
  },
  "language_info": {
   "codemirror_mode": {
    "name": "ipython",
    "version": 3
   },
   "file_extension": ".py",
   "mimetype": "text/x-python",
   "name": "python",
   "nbconvert_exporter": "python",
   "pygments_lexer": "ipython3",
   "version": "3.8.10"
  }
 },
 "nbformat": 4,
 "nbformat_minor": 1
}
