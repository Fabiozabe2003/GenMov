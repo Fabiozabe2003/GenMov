{
 "cells": [
  {
   "cell_type": "markdown",
   "metadata": {},
   "source": [
    "# Lectura bvhio y adaptamiento"
   ]
  },
  {
   "cell_type": "markdown",
   "metadata": {},
   "source": [
    "## Librerias"
   ]
  },
  {
   "cell_type": "code",
   "execution_count": 1,
   "metadata": {
    "executionInfo": {
     "elapsed": 9,
     "status": "ok",
     "timestamp": 1715916246607,
     "user": {
      "displayName": "Lynn Guadalupe Marin Flores",
      "userId": "18345643331908002377"
     },
     "user_tz": 300
    },
    "id": "d8VzI_y43M2X"
   },
   "outputs": [],
   "source": [
    "import bvhio\n",
    "import matplotlib.pyplot as plt\n",
    "import numpy as np"
   ]
  },
  {
   "cell_type": "code",
   "execution_count": 2,
   "metadata": {
    "colab": {
     "base_uri": "https://localhost:8080/",
     "height": 494
    },
    "executionInfo": {
     "elapsed": 14,
     "status": "error",
     "timestamp": 1715916193381,
     "user": {
      "displayName": "Lynn Guadalupe Marin Flores",
      "userId": "18345643331908002377"
     },
     "user_tz": 300
    },
    "id": "78JbVz9t3M2Y",
    "outputId": "51cfdaae-aeed-42b7-e29d-a3becb486363"
   },
   "outputs": [
    {
     "name": "stderr",
     "output_type": "stream",
     "text": [
      "QStandardPaths: XDG_RUNTIME_DIR not set, defaulting to '/tmp/runtime-fabiozabe'\n"
     ]
    }
   ],
   "source": [
    "%matplotlib qt"
   ]
  },
  {
   "cell_type": "markdown",
   "metadata": {},
   "source": [
    "## Lectura\n",
    "### Archivo"
   ]
  },
  {
   "cell_type": "code",
   "execution_count": 3,
   "metadata": {
    "colab": {
     "base_uri": "https://localhost:8080/"
    },
    "executionInfo": {
     "elapsed": 385,
     "status": "ok",
     "timestamp": 1715916266039,
     "user": {
      "displayName": "Lynn Guadalupe Marin Flores",
      "userId": "18345643331908002377"
     },
     "user_tz": 300
    },
    "id": "03EibixV3M2Z",
    "outputId": "12672db6-65f5-44f9-e238-330c4a69faa1"
   },
   "outputs": [
    {
     "name": "stdout",
     "output_type": "stream",
     "text": [
      "Number of frames: 80\n"
     ]
    }
   ],
   "source": [
    "\n",
    "root = bvhio.readAsHierarchy('/home/fabiozabe/proy_ws/src/GenMov/genmov_ur5/src/sample_wave.bvh')\n",
    "nframes = len(root.Keyframes)\n",
    "print(\"Number of frames:\", nframes)"
   ]
  },
  {
   "cell_type": "markdown",
   "metadata": {},
   "source": [
    "## Ordenamiento de datos"
   ]
  },
  {
   "cell_type": "code",
   "execution_count": 21,
   "metadata": {
    "executionInfo": {
     "elapsed": 394,
     "status": "ok",
     "timestamp": 1715916314816,
     "user": {
      "displayName": "Lynn Guadalupe Marin Flores",
      "userId": "18345643331908002377"
     },
     "user_tz": 300
    },
    "id": "Cw8NCo6B3M2b"
   },
   "outputs": [],
   "source": [
    "lshoulder_ = root.filter('LeftShoulder')[0]\n",
    "larm_ = root.filter('LeftArm')[0]\n",
    "lforearm_ = root.filter('LeftForeArm')[0]\n",
    "lhand_ = root.filter('LeftHand')[0]\n",
    "\n",
    "rshoulder_ = root.filter('RightShoulder')[0]\n",
    "rarm_ = root.filter('RightArm')[0]\n",
    "rforearm_ = root.filter('RightForeArm')[0]\n",
    "rhand_ = root.filter('RightHand')[0]\n",
    "\n",
    "larm = []\n",
    "lshoulder = []\n",
    "lforearm = []\n",
    "lhand = []\n",
    "\n",
    "rarm = []\n",
    "rshoulder = []\n",
    "rforearm = []\n",
    "rhand = []\n",
    "\n",
    "# Leer valores\n",
    "for i in range(nframes):\n",
    "    lshoulder_.loadPose(i)\n",
    "    larm_.loadPose(i)\n",
    "    lforearm_.loadPose(i)\n",
    "    lhand_.loadPose(i)\n",
    "\n",
    "    rshoulder_.loadPose(i)\n",
    "    rarm_.loadPose(i)\n",
    "    rforearm_.loadPose(i)\n",
    "    rhand_.loadPose(i)\n",
    "\n",
    "    lshoulder.append([lshoulder_.PositionWorld.x, lshoulder_.PositionWorld.y, lshoulder_.PositionWorld.z])\n",
    "    larm.append([larm_.PositionWorld.x, larm_.PositionWorld.y, larm_.PositionWorld.z])\n",
    "    lforearm.append([lforearm_.PositionWorld.x, lforearm_.PositionWorld.y, lforearm_.PositionWorld.z])\n",
    "    lhand.append([lhand_.PositionWorld.x, lhand_.PositionWorld.y, lhand_.PositionWorld.z])\n",
    "\n",
    "    rshoulder.append([rshoulder_.PositionWorld.x, rshoulder_.PositionWorld.y, rshoulder_.PositionWorld.z])\n",
    "    rarm.append([rarm_.PositionWorld.x, rarm_.PositionWorld.y, rarm_.PositionWorld.z])\n",
    "    rforearm.append([rforearm_.PositionWorld.x, rforearm_.PositionWorld.y, rforearm_.PositionWorld.z])\n",
    "    rhand.append([rhand_.PositionWorld.x, rhand_.PositionWorld.y, rhand_.PositionWorld.z])\n",
    "\n",
    "lshoulder = np.array(lshoulder)\n",
    "larm = np.array(larm)\n",
    "lforearm = np.array(lforearm)\n",
    "lhand = np.array(lhand)\n",
    "\n",
    "rshoulder = np.array(rshoulder)\n",
    "rarm = np.array(rarm)\n",
    "rforearm = np.array(rforearm)\n",
    "rhand = np.array(rhand)\n",
    "\n",
    "\n",
    "# Modificamos ejes de rhand para que coincidan con el Robot\n",
    "orden = [2, 0, 1] #configuracion 2 (ejes)\n",
    "rhand2 = rhand[:, orden]\n",
    "#Negativo en x\n",
    "rhand2[:,0] *= -1\n",
    "#Negativo en y\n",
    "rhand2[:,1] *= -1\n",
    "\n",
    "filename_hand_points = f'person_hand_points.txt'\n",
    "np.savetxt(filename_hand_points, rhand2, fmt='%f')\n"
   ]
  },
  {
   "cell_type": "markdown",
   "metadata": {},
   "source": [
    "## Ploteo de brazo"
   ]
  },
  {
   "cell_type": "code",
   "execution_count": 8,
   "metadata": {
    "colab": {
     "base_uri": "https://localhost:8080/",
     "height": 434
    },
    "executionInfo": {
     "elapsed": 1290,
     "status": "ok",
     "timestamp": 1715916401628,
     "user": {
      "displayName": "Lynn Guadalupe Marin Flores",
      "userId": "18345643331908002377"
     },
     "user_tz": 300
    },
    "id": "gynEWvDD3M2c",
    "outputId": "f854fc0e-3f6f-4b62-fede-341fd786e26e"
   },
   "outputs": [],
   "source": [
    "# Select a specific frame to plot\n",
    "# frame_number = 10\n",
    "\n",
    "# Create the figure and the 3D axis\n",
    "fig = plt.figure()\n",
    "ax = fig.add_subplot(111, projection='3d')\n",
    "\n",
    "for frame_number in range(nframes):\n",
    "\n",
    "        # Clear the previous frame's data\n",
    "        ax.cla()\n",
    "\n",
    "        # Plot the data for the selected frame\n",
    "        ax.plot(lshoulder[frame_number, 0], lshoulder[frame_number, 1], lshoulder[frame_number, 2], label='lshoulder', color='r', marker='o')\n",
    "        ax.plot(larm[frame_number, 0], larm[frame_number, 1], larm[frame_number, 2], label='larm', color='g', marker='o')\n",
    "        ax.plot(lforearm[frame_number, 0], lforearm[frame_number, 1], lforearm[frame_number, 2], label='lforearm', color='b', marker='o')\n",
    "        ax.plot(lhand[frame_number, 0], lhand[frame_number, 1], lhand[frame_number, 2], label='lhand', color='y', marker='o')\n",
    "\n",
    "        ax.plot(rshoulder[frame_number, 0], rshoulder[frame_number, 1], rshoulder[frame_number, 2], label='rshoulder', color='r', marker='o')\n",
    "        ax.plot(rarm[frame_number, 0], rarm[frame_number, 1], rarm[frame_number, 2], label='rarm', color='g', marker='o')\n",
    "        ax.plot(rforearm[frame_number, 0], rforearm[frame_number, 1], rforearm[frame_number, 2], label='rforearm', color='b', marker='o')\n",
    "        ax.plot(rhand[frame_number, 0], rhand[frame_number, 1], rhand[frame_number, 2], label='rhand', color='y', marker='o')\n",
    "\n",
    "        # Line between lshoulder and larm\n",
    "        ax.plot([lshoulder[frame_number, 0], larm[frame_number, 0]],\n",
    "                [lshoulder[frame_number, 1], larm[frame_number, 1]],\n",
    "                [lshoulder[frame_number, 2], larm[frame_number, 2]], color='k')\n",
    "\n",
    "        # Line between larm and lforearm\n",
    "        ax.plot([larm[frame_number, 0], lforearm[frame_number, 0]],\n",
    "                [larm[frame_number, 1], lforearm[frame_number, 1]],\n",
    "                [larm[frame_number, 2], lforearm[frame_number, 2]], color='k')\n",
    "\n",
    "        # Line between lforearm and lhand\n",
    "        ax.plot([lforearm[frame_number, 0], lhand[frame_number, 0]],\n",
    "                [lforearm[frame_number, 1], lhand[frame_number, 1]],\n",
    "                [lforearm[frame_number, 2], lhand[frame_number, 2]], color='k')\n",
    "\n",
    "#        # Line between rshoulder and rarm\n",
    "        ax.plot([rshoulder[frame_number, 0], rarm[frame_number, 0]],\n",
    "                 [rshoulder[frame_number, 1], rarm[frame_number, 1]],\n",
    "                 [rshoulder[frame_number, 2], rarm[frame_number, 2]], color='k')\n",
    " \n",
    "#        # Line between rarm and rforearm\n",
    "        ax.plot([rarm[frame_number, 0], rforearm[frame_number, 0]],\n",
    "                 [rarm[frame_number, 1], rforearm[frame_number, 1]],\n",
    "                 [rarm[frame_number, 2], rforearm[frame_number, 2]], color='k')\n",
    "#\n",
    "        # Line between rforearm and rhand\n",
    "        ax.plot([rforearm[frame_number, 0], rhand[frame_number, 0]],\n",
    "                 [rforearm[frame_number, 1], rhand[frame_number, 1]],\n",
    "                 [rforearm[frame_number, 2], rhand[frame_number, 2]], color='k')\n",
    "\n",
    "\n",
    "        # Set axis labels and limits\n",
    "        ax.set_xlim([-0.5, 0.5])\n",
    "        ax.set_ylim([-0.5, 0.5])\n",
    "        ax.set_zlim([-0.5, 0.5])\n",
    "        ax.set_xlabel('X axis')\n",
    "        ax.set_ylabel('Y axis')\n",
    "        ax.set_zlabel('Z axis')\n",
    "        ax.set_title('3D Motion Visualization')\n",
    "\n",
    "        # Show the plot\n",
    "        plt.pause(0.1) \n",
    "plt.show()\n",
    "\n",
    "\n",
    "\n",
    "\n"
   ]
  },
  {
   "cell_type": "markdown",
   "metadata": {},
   "source": [
    "## Ploteo de brazo escalado\n",
    "### Brazo izquierdo para Sawyer\n",
    "### Brazo derecho para UR5"
   ]
  },
  {
   "cell_type": "code",
   "execution_count": 53,
   "metadata": {},
   "outputs": [],
   "source": [
    "# Select a specific frame to plot\n",
    "# frame_number = 10\n",
    "# Create the figure and the 3D axis\n",
    "fig = plt.figure()\n",
    "ax = fig.add_subplot(111, projection='3d')\n",
    "modeloRobot='ur5' #'Sawyer' o 'ur5'\n",
    "\n",
    "# Para las articulaciones del Robot:\n",
    "shoulderRobot = np.zeros((nframes,3))\n",
    "armRobot = np.zeros((nframes,3))\n",
    "forearmRobot = np.zeros((nframes,3))\n",
    "handRobot = np.zeros((nframes,3))\n",
    "\n",
    "for frame_number in range(nframes):\n",
    "        # Factores\n",
    "        if modeloRobot=='Sawyer': #Para Sawyer\n",
    "                #k1 = 20.88474/9.64; k2=40.0/26.14; k3= 53.47084/24.94 \n",
    "                k1 = 20.88474/10.2; k2=40.0/25.49; k3= 53.47084/25.49 \n",
    "                shoulder=lshoulder\n",
    "                arm=larm\n",
    "                forearm=lforearm\n",
    "                hand=lhand\n",
    "                \n",
    "        elif modeloRobot=='ur5': #Para UR5\n",
    "                #k1 = 8.9/10.2; k2 = 36.2/25.49; k3 = 9.5/3 + 39.2/25.49 \n",
    "                k1 = 8.9/10.2; k2 = 36/25.49; k3 = (9.5 + 39.2)/25.49 \n",
    "                shoulder=rshoulder\n",
    "                arm=rarm\n",
    "                forearm=rforearm\n",
    "                hand=rhand\n",
    "                \n",
    "        # Puntos en humano\n",
    "        Sh = shoulder[frame_number]\n",
    "        Ah = arm[frame_number]\n",
    "        Fh = forearm[frame_number]\n",
    "        Hh = hand[frame_number]\n",
    "\n",
    "        # Escalamiento para puntos del robot\n",
    "        Sr = Sh - Sh  \n",
    "        Ar = (Ah-Sh)*k1 + Sr\n",
    "        Fr = (Fh - Ah)*k2 + Ar\n",
    "        Hr = (Hh - Fh)*k3 + Fr\n",
    "\n",
    "        # Puntos en robot\n",
    "        shoulderRobot[frame_number,:] = Sr\n",
    "        armRobot[frame_number,:] = Ar \n",
    "        forearmRobot[frame_number,:] = Fr\n",
    "        handRobot[frame_number,:] = Hr\n",
    "\n",
    "        # Clear the previous frame's data\n",
    "        ax.cla()\n",
    "\n",
    "        # Ploteo brazo escalado para Robot\n",
    "        ax.plot(Sr[0],Sr[1],Sr[2], label='shoulder', color='r', marker='o')\n",
    "        ax.plot(Ar[0],Ar[1],Ar[2], label='arm', color='g', marker='o')\n",
    "        ax.plot(Fr[0],Fr[1],Fr[2], label='forearm', color='b', marker='o')\n",
    "        ax.plot(Hr[0],Hr[1],Hr[2], label='hand', color='y', marker='o')\n",
    "\n",
    "        # Line between lshoulder and larm\n",
    "        ax.plot([Sr[0], Ar[0]],\n",
    "                [Sr[1], Ar[1]],\n",
    "                [Sr[2], Ar[2]], color='k')\n",
    "\n",
    "        # Line between larm and lforearm\n",
    "        ax.plot([Ar[0], Fr[0]],\n",
    "                [Ar[1], Fr[1]],\n",
    "                [Ar[2], Fr[2]], color='k')\n",
    "\n",
    "        # Line between lforearm and lhand\n",
    "        ax.plot([Fr[0], Hr[0]],\n",
    "                [Fr[1], Hr[1]],\n",
    "                [Fr[2], Hr[2]], color='k')\n",
    "\n",
    "        # Set axis labels and limits\n",
    "        ax.set_xlim([-0.75, 0.75]); ax.set_ylim([-0.75, 0.75]); ax.set_zlim([-0.75, 0.75])\n",
    "        ax.set_xlabel('X axis'); ax.set_ylabel('Y axis'); ax.set_zlabel('Z axis')\n",
    "        ax.set_title('3D Motion Visualization')\n",
    "\n",
    "         # Show the plot\n",
    "        plt.pause(0.05)\n",
    "\n",
    "plt.show()\n",
    "\n",
    "# Reorder columns\n",
    "if (modeloRobot=='Sawyer'):\n",
    "        orden = [2, 0, 1] #configuracion 1 (ejes)\n",
    "        #handRobot = handRobot[:, orden]\n",
    "        #forearmRobot = forearmRobot[:, orden]\n",
    "elif modeloRobot=='ur5':\n",
    "        orden = [2, 0, 1 ] #configuracion 2 (ejes)\n",
    "        handRobot = handRobot[:, orden]\n",
    "        forearmRobot = forearmRobot[:, orden]\n",
    "        #Negativo en y\n",
    "        handRobot[:,1] *= -1\n",
    "        forearmRobot[:,1] *= -1\n",
    "        #Negativo en x\n",
    "        handRobot[:,0] *= -1\n",
    "        forearmRobot[:,0] *= -1\n",
    "        # Desplazamiento del codo\n",
    "        forearmRobot[:,1] -= 0.15\n",
    "        \n",
    "# Save txt\n",
    "filename_hand = f'{modeloRobot}_hand_points.txt'\n",
    "filename_forearm = f'{modeloRobot}_forearm_points.txt'\n",
    "np.savetxt(filename_hand, handRobot, fmt='%f')\n",
    "np.savetxt(filename_forearm, forearmRobot, fmt='%f')"
   ]
  }
 ],
 "metadata": {
  "colab": {
   "provenance": []
  },
  "kernelspec": {
   "display_name": "Python 3 (ipykernel)",
   "language": "python",
   "name": "python3"
  },
  "language_info": {
   "codemirror_mode": {
    "name": "ipython",
    "version": 3
   },
   "file_extension": ".py",
   "mimetype": "text/x-python",
   "name": "python",
   "nbconvert_exporter": "python",
   "pygments_lexer": "ipython3",
   "version": "3.11.9"
  }
 },
 "nbformat": 4,
 "nbformat_minor": 1
}
